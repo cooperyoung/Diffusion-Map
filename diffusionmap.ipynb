{
 "cells": [
  {
   "cell_type": "code",
   "execution_count": 136,
   "metadata": {},
   "outputs": [],
   "source": [
    "import numpy as np\n",
    "from skimage import data\n",
    "import matplotlib.pyplot as plt \n",
    "import PIL\n",
    "from PIL import Image\n",
    "import math\n",
    "import os\n",
    "from numpy import linalg as LA\n",
    "\n",
    "\n",
    "path = '/Users/cooperyoung/Desktop/jupyter/pendulum/'\n",
    "data = []\n",
    "shapes = []\n",
    "epsilon = 10000000\n",
    "alpha = 1\n",
    "\n",
    "# creates list of our images (data) \n",
    "for file in os.listdir(path):\n",
    "    if file.endswith(\".PNG\"):\n",
    "        # scales then crops images so they're all 700x400\n",
    "        \n",
    "        im = Image.open(path + file)\n",
    "        im.thumbnail((560, 300))\n",
    "        scaled_im = im.resize((560, 300))\n",
    "        \n",
    "        np_im = np.array(scaled_im)\n",
    "        shapes.append(np_im.shape)\n",
    "        data.append(np_im.ravel())\n",
    "        \n",
    "        \n",
    "# Create our functions\n",
    "def k(x, y):\n",
    "    dist_sq = 0\n",
    "    for i in range (0, min(len(x), len(y))):\n",
    "        dist_sq += (float(x[i]) - float(y[i])) ** 2\n",
    "    return (float(math.exp(- dist_sq/epsilon))) \n",
    "\n",
    "# For some reason this way of making a k-value matrix wasn't working\n",
    "#k_vals = np.fromfunction(lambda i, j: k(data[i], data[j]), (len(data), len(data)), dtype=float)\n",
    "\n",
    "k_vals = np.zeros((len(data), len(data)))\n",
    "for i in range(len(data)):\n",
    "    for j in range(len(data)):\n",
    "        k_vals[i, j] = k(data[i], data[j])\n",
    "\n",
    "def q(n):\n",
    "    sum = 0\n",
    "    for j in range(0, len(data)):\n",
    "        sum += k_vals[n][j]\n",
    "    return(sum)\n",
    "\n",
    "\n",
    "def w(n, m):\n",
    "    denom = q(n) ** alpha + q(m) ** alpha\n",
    "    return(k_vals[n][m]/denom)\n",
    "\n",
    "\n",
    "# How to turn vector data back into image by recalling its shape\n",
    "#vector = np.matrix(data[0])\n",
    "#ar = np.asarray(vector).reshape(shapes[0])\n",
    "#im = Image.fromarray(ar, 'RGBA')\n",
    "#im.show()\n",
    "\n"
   ]
  },
  {
   "cell_type": "code",
   "execution_count": 137,
   "metadata": {},
   "outputs": [],
   "source": [
    "# Compute our transition matrix\n",
    "def trans_matrix(n):\n",
    "    M = np.zeros((len(data), len(data)))\n",
    "    for i in range(len(data)):\n",
    "        for j in range(len(data)):\n",
    "            denom = 0\n",
    "            for k in range(len(data)):\n",
    "                denom += w(j, k)\n",
    "            M[i, j] = w(i,j)/denom\n",
    "    \n",
    "    return(M)\n",
    "\n",
    "\n"
   ]
  },
  {
   "cell_type": "code",
   "execution_count": 150,
   "metadata": {},
   "outputs": [
    {
     "name": "stdout",
     "output_type": "stream",
     "text": [
      "0.9423620617069544\n",
      "[-0.9678895236882956, 0.22970896885534825, -0.014862321257660049, -1.3570064459797768e-06, 5.1870383941549184e-05, 0.00045490316724214715, -7.505513594855044e-05, 8.778429616395166e-07, -1.0399162273164883e-05, 0.0008873012383183329, -0.0003541843649886425, 0.00011322719063796037, -9.691265812178733e-05, 0.0002920098838317724, -1.0753343099871681e-05, -5.618373680165407e-07]\n",
      "[ 0  2 10 12  6 14  8  3 15  7  4 11 13  5  9  1]\n"
     ]
    },
    {
     "data": {
      "image/png": "[encoded data removed]",
      "text/plain": [
       "<Figure size 432x288 with 1 Axes>"
      ]
     },
     "metadata": {
      "needs_background": "light"
     },
     "output_type": "display_data"
    }
   ],
   "source": [
    "# plots the t-step diffusion map with one dimension (just one eigenvector)\n",
    "\n",
    "def diffusion(t):\n",
    "    \n",
    "    eigen_vals, eigen_vecs = LA.eig(M)\n",
    "    eigen_vals = eigen_vals.tolist()\n",
    "    eigen_vecs = eigen_vecs.tolist()\n",
    "\n",
    "    # Find largest eigenvalue < 1\n",
    "    max_eigen_val = 0\n",
    "    for i in range(len(data)):\n",
    "        if (eigen_vals[i] > max_eigen_val) & (eigen_vals[i] < 1):\n",
    "            max_eigen_val = eigen_vals[i]\n",
    "          \n",
    "    # Find cooresponding eigenvector\n",
    "    max_eigen_vect = eigen_vecs[eigen_vals.index(max_eigen_val)]\n",
    "    \n",
    "    print(max_eigen_val)\n",
    "    print(max_eigen_vect)\n",
    "    \n",
    "    # Embed our points in 1 dimensional space\n",
    "    for i in range(len(data)):\n",
    "        plt.plot(i, (max_eigen_val ** t) * max_eigen_vect[i], 'o',color='black')\n",
    "        \n",
    "    # Sort data in order\n",
    "    sort_index = np.argsort(max_eigen_vect) \n",
    "    print(sort_index) \n",
    "    \n",
    "    \n",
    "\n",
    "diffusion(10)\n"
   ]
  },
  {
   "cell_type": "code",
   "execution_count": null,
   "metadata": {},
   "outputs": [],
   "source": []
  }
 ],
 "metadata": {
  "kernelspec": {
   "display_name": "Python 3",
   "language": "python",
   "name": "python3"
  },
  "language_info": {
   "codemirror_mode": {
    "name": "ipython",
    "version": 3
   },
   "file_extension": ".py",
   "mimetype": "text/x-python",
   "name": "python",
   "nbconvert_exporter": "python",
   "pygments_lexer": "ipython3",
   "version": "3.8.5"
  }
 },
 "nbformat": 4,
 "nbformat_minor": 4
}
